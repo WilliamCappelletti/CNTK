{
 "cells": [
  {
   "cell_type": "code",
   "execution_count": 1,
   "metadata": {},
   "outputs": [],
   "source": [
    "from ipywidgets import interact, interact_manual\n",
    "\n",
    "# %load_ext autoreload\n",
    "# %autoreload 2"
   ]
  },
  {
   "cell_type": "code",
   "execution_count": 2,
   "metadata": {},
   "outputs": [],
   "source": [
    "import sys, os\n",
    "\n",
    "module_path = os.path.abspath(os.path.join('..'))\n",
    "if module_path not in sys.path:\n",
    "    sys.path.append(module_path)\n",
    "\n",
    "import warnings"
   ]
  },
  {
   "cell_type": "code",
   "execution_count": 3,
   "metadata": {},
   "outputs": [],
   "source": [
    "import yaml\n",
    "\n",
    "with open(\"../config.yml\", 'r') as f:\n",
    "    cfg = yaml.safe_load(f)"
   ]
  },
  {
   "cell_type": "markdown",
   "metadata": {},
   "source": [
    "# Convolutional Neural Tangent Kernels"
   ]
  },
  {
   "cell_type": "markdown",
   "metadata": {},
   "source": [
    "Various papers have shown that, in the infinite width limit, any _Neural Network_ with _standard architecture_ is equivalent to a Gaussian process at initialization. Furthermore, Jacot and Al. have introduced the concept of _Neural Tangent Kernel_ and proved that for MLP, it stays constant during training.\n",
    "\n",
    "Although, for MLPs, regression based on NTK obtains results equivalent, or even better, than those of the original network, the same does not holds for CNNs, where experimental results show that the actual network greatly outperform the kernel methods.\n",
    "\n",
    "We investigate in this notebook the reason for that behaviour. In particular, we focus on what the network is actually learning, to confront it with what the NTK gives as a function."
   ]
  },
  {
   "cell_type": "markdown",
   "metadata": {},
   "source": [
    "## The experiment\n",
    "\n",
    "We consider different network architectures and, for each, we study the learning of a Neural Network $NN$ randomly initialized.\n",
    "It is proved in [yang2019scaling] that, in the infinite width limit (IWL), each such Network is equivalent at initialization to a Gaussian Precess.\n",
    "Furthermore, [jacot2019neural] proved that in the MLP case during training, the gradient follow the Neural Tangent Kernel, which in the IWL is constant and converges.\n",
    "We conjecture that the same should hold for any architecture and study what the actual Net learns compared to the infinite width limit.\n",
    "\n",
    "In particular, we consider for each $NN$ at initialization, the actual Neural Tangent Kernel $$???$$ which we denote by $NTK^P_0$ and its theoretical-infinite-wide counterpart $NTK^\\infty$.\n",
    "\n",
    "We then train the Net to get $NN_\\infty$ and its corresponding $NTK^P_\\infty$.\n",
    "By [jacot2019neural], we know that $NTK^\\infty$ does not change during training, so we can study the kernel regression functions $f^P_\\infty$ and $f^\\infty$ given respectively by the finite-case Tangent Kernel and the infinte-width one.\n",
    "Note that the subscript $\\infty$ refers to the training, while the superscript one refers to the number of parameters.\n",
    "\n",
    "We expect the $f^M_\\infty$ to be very close to the actual Net output $NN_\\infty$ and we want to understand the difference between it and the infinite width kernel regression function.\n",
    "\n",
    "We use **Pythorch** as our deep learning framework."
   ]
  },
  {
   "cell_type": "code",
   "execution_count": 4,
   "metadata": {},
   "outputs": [
    {
     "name": "stderr",
     "output_type": "stream",
     "text": [
      "/home/william/.local/lib/python3.7/site-packages/tqdm/autonotebook/__init__.py:18: TqdmExperimentalWarning: Using `tqdm.autonotebook.tqdm` in notebook mode. Use `tqdm.tqdm` instead to force console mode (e.g. in jupyter console)\n",
      "  \" (e.g. in jupyter console)\", TqdmExperimentalWarning)\n"
     ]
    }
   ],
   "source": [
    "# warnings.simplefilter('ignore')\n",
    "\n",
    "import torch\n",
    "import torchvision\n",
    "\n",
    "import torch.nn as nn\n",
    "import torch.functional as F\n",
    "\n",
    "import matplotlib.pyplot as plt\n",
    "import seaborn as sns\n",
    "import numpy as np\n",
    "from tqdm.autonotebook import tqdm\n",
    "\n",
    "from utility.util import one_hot\n",
    "from utility.train import train\n",
    "from utility.metrics import print_score, nn_accuracy_score\n",
    "from utility.torchKernel import NeuralTangentKernel"
   ]
  },
  {
   "cell_type": "code",
   "execution_count": 5,
   "metadata": {},
   "outputs": [],
   "source": [
    "seed = cfg['other']['random_seed']\n",
    "\n",
    "torch.backends.cudnn.enabled = False\n",
    "torch.manual_seed(seed)\n",
    "torch.cuda.manual_seed_all(seed)\n",
    "\n",
    "device = 'cuda' if torch.cuda.is_available() else 'cpu'"
   ]
  },
  {
   "cell_type": "markdown",
   "metadata": {},
   "source": [
    "## The dataset\n",
    "\n",
    "To start, we work with the **MNIST** dataset, to investigate what the CNN kernel learns. When working with transformers we will use a semantic dataset **TBD**\n",
    "\n",
    "The MNIST dataset consist in grayscale images of handwritten digits, whose size is 28x28 pixels.\n",
    "\n",
    "We use 1000 samples for train and we study the Kernel on a test of 100 samples, representing each class (digit)."
   ]
  },
  {
   "cell_type": "code",
   "execution_count": 6,
   "metadata": {},
   "outputs": [],
   "source": [
    "train_size = cfg['dataset']['train_size']\n",
    "test_size = cfg['dataset']['test_size']"
   ]
  },
  {
   "cell_type": "code",
   "execution_count": 7,
   "metadata": {},
   "outputs": [],
   "source": [
    "transform =torchvision.transforms.Compose([\n",
    "                  torchvision.transforms.ToTensor(),\n",
    "                  torchvision.transforms.Normalize(\n",
    "                  (0.1307,), (0.3081,))\n",
    "                  ])"
   ]
  },
  {
   "cell_type": "code",
   "execution_count": 8,
   "metadata": {},
   "outputs": [],
   "source": [
    "train_loader = torch.utils.data.DataLoader(\n",
    "  torchvision.datasets.MNIST(cfg['dataset']['path'], train=True, download=True,\n",
    "                             transform=transform),\n",
    "  batch_size=train_size, shuffle=True)\n",
    "\n",
    "test_loader = torch.utils.data.DataLoader(\n",
    "  torchvision.datasets.MNIST(cfg['dataset']['path'], train=False, download=True,\n",
    "                             transform=transform),\n",
    "  batch_size=test_size, shuffle=True)"
   ]
  },
  {
   "cell_type": "markdown",
   "metadata": {},
   "source": [
    "Note that the values $0.1307$ and $0.3081$ are the well known mean and variance for the MNIST dataset."
   ]
  },
  {
   "cell_type": "code",
   "execution_count": 9,
   "metadata": {},
   "outputs": [
    {
     "name": "stderr",
     "output_type": "stream",
     "text": [
      "Clipping input data to the valid range for imshow with RGB data ([0..1] for floats or [0..255] for integers).\n"
     ]
    },
    {
     "data": {
      "image/png": "[encoded data removed]",
      "text/plain": [
       "<Figure size 576x360 with 1 Axes>"
      ]
     },
     "metadata": {
      "needs_background": "light"
     },
     "output_type": "display_data"
    },
    {
     "name": "stdout",
     "output_type": "stream",
     "text": [
      "    5     0     7     1     6     9     0     7\n"
     ]
    }
   ],
   "source": [
    "def imshow(img):\n",
    "    img * 0.3081 + 0.1307\n",
    "    npimg = img.numpy()\n",
    "    plt.figure(figsize = (8,5))\n",
    "    plt.imshow(np.transpose(npimg, (1, 2, 0)))\n",
    "    plt.xticks(ticks=[i*30 for i in range(8)], labels=[])\n",
    "    plt.yticks(ticks=[0,30], labels=[])\n",
    "    plt.tight_layout()\n",
    "    if False:\n",
    "        plt.savefig(cfg['figures']['path']+'/mnist_sample.png', bbox='tight')\n",
    "    plt.show()\n",
    "    \n",
    "dataiter = iter(train_loader)\n",
    "images, labels = dataiter.next()\n",
    "\n",
    "ordered_labels = labels.argsort()\n",
    "\n",
    "# show images\n",
    "imshow(torchvision.utils.make_grid(images[:8]))\n",
    "# print labels\n",
    "print(' '.join('%5s' % labels[j].item() for j in range(8)))"
   ]
  },
  {
   "cell_type": "code",
   "execution_count": 10,
   "metadata": {},
   "outputs": [],
   "source": [
    "testiter = iter(test_loader)\n",
    "images_test, labels_test = testiter.next()"
   ]
  },
  {
   "cell_type": "raw",
   "metadata": {},
   "source": [
    "images, labels = images.to(device), labels.to(device)\n",
    "images_test, labels_test = images_test.to(device), labels_test.to(device)"
   ]
  },
  {
   "cell_type": "markdown",
   "metadata": {},
   "source": [
    "## Convolutional Network"
   ]
  },
  {
   "cell_type": "markdown",
   "metadata": {},
   "source": [
    "We use a simple design, to warm up the computations. The derivation of the NTK is then based on [arora2019exact].\n",
    "\n",
    "We use an MLP with ? layers and ReLU activation function, and try a different number of hidden nodes."
   ]
  },
  {
   "cell_type": "code",
   "execution_count": 11,
   "metadata": {},
   "outputs": [],
   "source": [
    "n_channels = 20\n",
    "CNN = nn.Sequential(nn.Conv2d(1,n_channels,5), nn.ReLU(),\n",
    "                    nn.Conv2d(n_channels,n_channels,5), nn.ReLU(),\n",
    "                    nn.Conv2d(n_channels, 10, 20), nn.Flatten())\n",
    "\n",
    "CNN_t = nn.Sequential(nn.Conv2d(1,n_channels,5), nn.ReLU(),\n",
    "                    nn.Conv2d(n_channels,n_channels,5), nn.ReLU(),\n",
    "                    nn.Conv2d(n_channels, 10, 20), nn.Flatten())"
   ]
  },
  {
   "cell_type": "code",
   "execution_count": 12,
   "metadata": {},
   "outputs": [],
   "source": [
    "def count_params(net):\n",
    "    return sum(par.numel() for par in net.parameters() if par.requires_grad)"
   ]
  },
  {
   "cell_type": "code",
   "execution_count": 13,
   "metadata": {},
   "outputs": [
    {
     "data": {
      "text/plain": [
       "90550"
      ]
     },
     "execution_count": 13,
     "metadata": {},
     "output_type": "execute_result"
    }
   ],
   "source": [
    "count_params(CNN_t)"
   ]
  },
  {
   "cell_type": "code",
   "execution_count": 14,
   "metadata": {
    "scrolled": true
   },
   "outputs": [
    {
     "data": {
      "application/vnd.jupyter.widget-view+json": {
       "model_id": "1d8b8957a36142c886a5605f6445b0e3",
       "version_major": 2,
       "version_minor": 0
      },
      "text/plain": [
       "HBox(children=(IntProgress(value=0, description='Computing Jacobians', max=500, style=ProgressStyle(descriptio…"
      ]
     },
     "metadata": {},
     "output_type": "display_data"
    },
    {
     "name": "stdout",
     "output_type": "stream",
     "text": [
      "\n",
      "Computed jacobians in 1040.656769990921s\n",
      "CPU times: user 12min 58s, sys: 4min 11s, total: 17min 10s\n",
      "Wall time: 17min 21s\n"
     ]
    }
   ],
   "source": [
    "%%time\n",
    "CNTK_p = NeuralTangentKernel(images, CNN, verbose=True, device=device)"
   ]
  },
  {
   "cell_type": "code",
   "execution_count": 15,
   "metadata": {},
   "outputs": [
    {
     "data": {
      "application/vnd.jupyter.widget-view+json": {
       "model_id": "5f083f64d69f4ef3a404236efc2701a7",
       "version_major": 2,
       "version_minor": 0
      },
      "text/plain": [
       "HBox(children=(IntProgress(value=0, max=5000), HTML(value='')))"
      ]
     },
     "metadata": {},
     "output_type": "display_data"
    },
    {
     "name": "stdout",
     "output_type": "stream",
     "text": [
      "\n",
      "Train score : tensor(2.4772e-07, device='cuda:0', grad_fn=<NllLossBackward>)\n",
      "CrossEntropyLoss() on TRAIN :\t 2.4771691187197575e-07 \n",
      "CrossEntropyLoss() on TEST :\t 0.9112668037414551\n",
      "<function nn_accuracy_score at 0x7fee99e258c0> on TRAIN :\t 1.0 \n",
      "<function nn_accuracy_score at 0x7fee99e258c0> on TEST :\t 0.8940000534057617\n"
     ]
    }
   ],
   "source": [
    "# optimizer = torch.optim.SGD(CNN_t.parameters(), lr=0.001)\n",
    "optimizer = torch.optim.Adam(CNN_t.parameters())\n",
    "criterion = torch.nn.CrossEntropyLoss()\n",
    "    \n",
    "train(CNN_t, images, labels, criterion, optimizer, nb_epochs=5000, device=device)\n",
    "\n",
    "print_score(CNN_t, criterion, images, labels, images_test, labels_test, device=device)\n",
    "print_score(CNN_t, nn_accuracy_score, images, labels, images_test, labels_test, device=device)"
   ]
  },
  {
   "cell_type": "code",
   "execution_count": 16,
   "metadata": {},
   "outputs": [],
   "source": [
    "if next(CNN_t.parameters()).is_cuda:\n",
    "    CNN_t = CNN_t.to('cpu')"
   ]
  },
  {
   "cell_type": "code",
   "execution_count": 17,
   "metadata": {},
   "outputs": [
    {
     "name": "stderr",
     "output_type": "stream",
     "text": [
      "Clipping input data to the valid range for imshow with RGB data ([0..1] for floats or [0..255] for integers).\n"
     ]
    },
    {
     "data": {
      "image/png": "[encoded data removed]",
      "text/plain": [
       "<Figure size 576x360 with 1 Axes>"
      ]
     },
     "metadata": {
      "needs_background": "light"
     },
     "output_type": "display_data"
    },
    {
     "name": "stdout",
     "output_type": "stream",
     "text": [
      "Label :\t\t 8 2 2 8 9 2 3 5\n",
      "Prediction :\t 8 2 2 8 9 2 3 5\n"
     ]
    }
   ],
   "source": [
    "random_idcs = [np.random.randint(100) for _ in range(8)]\n",
    "# show images\n",
    "imshow(torchvision.utils.make_grid(images[random_idcs].cpu()))\n",
    "# print labels\n",
    "print('Label :\\t\\t', *(labels[j].item() for j in random_idcs))\n",
    "print('Prediction :\\t', *(CNN_t(images)[j].argmax().item() for j in random_idcs))"
   ]
  },
  {
   "cell_type": "code",
   "execution_count": 18,
   "metadata": {},
   "outputs": [
    {
     "data": {
      "application/vnd.jupyter.widget-view+json": {
       "model_id": "b77a1f06c3d242a89dc42e5486b3dc9b",
       "version_major": 2,
       "version_minor": 0
      },
      "text/plain": [
       "HBox(children=(IntProgress(value=0, description='Computing Jacobians', max=500, style=ProgressStyle(descriptio…"
      ]
     },
     "metadata": {},
     "output_type": "display_data"
    },
    {
     "name": "stdout",
     "output_type": "stream",
     "text": [
      "\n"
     ]
    }
   ],
   "source": [
    "CNTK_t = NeuralTangentKernel(images, CNN_t, device=device)"
   ]
  },
  {
   "cell_type": "code",
   "execution_count": 19,
   "metadata": {},
   "outputs": [],
   "source": [
    "digits = [1,3,17,15,9,0,4,2,24,5]"
   ]
  },
  {
   "cell_type": "code",
   "execution_count": 35,
   "metadata": {},
   "outputs": [
    {
     "data": {
      "image/png": "[encoded data removed]",
      "text/plain": [
       "<Figure size 1600x800 with 2 Axes>"
      ]
     },
     "metadata": {
      "needs_background": "light"
     },
     "output_type": "display_data"
    },
    {
     "name": "stderr",
     "output_type": "stream",
     "text": [
      "Clipping input data to the valid range for imshow with RGB data ([0..1] for floats or [0..255] for integers).\n"
     ]
    },
    {
     "data": {
      "image/png": "[encoded data removed]",
      "text/plain": [
       "<Figure size 576x360 with 1 Axes>"
      ]
     },
     "metadata": {
      "needs_background": "light"
     },
     "output_type": "display_data"
    }
   ],
   "source": [
    "fig, (ax1, ax2) = plt.subplots(ncols=2, figsize=(8,4), dpi=200)\n",
    "sns.heatmap(CNTK_p.kernel[:100,:100].cpu(), ax=ax1, cbar=False, square=True)\n",
    "sns.heatmap(CNTK_t.kernel[:100,:100].cpu(), ax=ax2, cbar=False, square=True)\n",
    "ax1.set(title='CNTK at initialization', xticks=[10*i for i in range(11)], xticklabels=[i for i in range(11)],\n",
    "        yticks=[10*i for i in range(11)], yticklabels=[i for i in range(11)])\n",
    "ax2.set(title='CNTK after training', xticks=[10*i for i in range(11)], xticklabels=[i for i in range(11)],\n",
    "        yticks=[10*i for i in range(11)], yticklabels=[i for i in range(11)])\n",
    "plt.tight_layout()\n",
    "plt.savefig(cfg['figures']['path']+'/cntk_before_after_tr.png', bbox='tight')\n",
    "plt.show()\n",
    "\n",
    "imshow(torchvision.utils.make_grid(images[:10].cpu(), nrow=10))"
   ]
  },
  {
   "cell_type": "raw",
   "metadata": {},
   "source": [
    "coefficients = torch.cholesky_solve(one_hot(labels, 10).reshape(-1,1), CNTK_p.kernel.unsqueeze(0).to(device))"
   ]
  },
  {
   "cell_type": "code",
   "execution_count": 21,
   "metadata": {},
   "outputs": [
    {
     "data": {
      "application/vnd.jupyter.widget-view+json": {
       "model_id": "77792e57c48d492faf4bf346e6e69334",
       "version_major": 2,
       "version_minor": 0
      },
      "text/plain": [
       "HBox(children=(IntProgress(value=0, max=5000), HTML(value='')))"
      ]
     },
     "metadata": {},
     "output_type": "display_data"
    },
    {
     "name": "stdout",
     "output_type": "stream",
     "text": [
      "\n",
      "Train score : tensor(2.5844, device='cuda:0', grad_fn=<NllLossBackward>)\n"
     ]
    },
    {
     "data": {
      "text/plain": [
       "NeuralTangentKernel()"
      ]
     },
     "execution_count": 21,
     "metadata": {},
     "output_type": "execute_result"
    }
   ],
   "source": [
    "optimizer = torch.optim.Adam(CNTK_p.parameters())\n",
    "criterion = torch.nn.CrossEntropyLoss()\n",
    "    \n",
    "train(CNTK_p, images, labels, criterion, optimizer, nb_epochs=5000, device=device)"
   ]
  },
  {
   "cell_type": "code",
   "execution_count": 22,
   "metadata": {},
   "outputs": [
    {
     "data": {
      "application/vnd.jupyter.widget-view+json": {
       "model_id": "e5cb296075ca4eb58425d11ed278e78b",
       "version_major": 2,
       "version_minor": 0
      },
      "text/plain": [
       "HBox(children=(IntProgress(value=0, description='Computing Jacobians', max=500, style=ProgressStyle(descriptio…"
      ]
     },
     "metadata": {},
     "output_type": "display_data"
    },
    {
     "name": "stdout",
     "output_type": "stream",
     "text": [
      "\n",
      "CPU times: user 14min 57s, sys: 4min 6s, total: 19min 3s\n",
      "Wall time: 17min 30s\n"
     ]
    }
   ],
   "source": [
    "%%time\n",
    "CNTK_p.train(False)\n",
    "pred_te_0 = CNTK_p(images_test)"
   ]
  },
  {
   "cell_type": "code",
   "execution_count": 31,
   "metadata": {},
   "outputs": [],
   "source": [
    "CNTK_t.train(True)\n",
    "pred_tr = CNTK_t(images)"
   ]
  },
  {
   "cell_type": "code",
   "execution_count": 32,
   "metadata": {},
   "outputs": [
    {
     "data": {
      "text/plain": [
       "tensor(1.)"
      ]
     },
     "execution_count": 32,
     "metadata": {},
     "output_type": "execute_result"
    }
   ],
   "source": [
    "nn_accuracy_score(pred_tr.cpu(), labels.cpu())"
   ]
  },
  {
   "cell_type": "code",
   "execution_count": 23,
   "metadata": {
    "scrolled": false
   },
   "outputs": [
    {
     "data": {
      "text/plain": [
       "tensor(0.8020)"
      ]
     },
     "execution_count": 23,
     "metadata": {},
     "output_type": "execute_result"
    }
   ],
   "source": [
    "nn_accuracy_score(pred_te_0.cpu(), labels_test.cpu())"
   ]
  },
  {
   "cell_type": "code",
   "execution_count": 24,
   "metadata": {},
   "outputs": [
    {
     "data": {
      "application/vnd.jupyter.widget-view+json": {
       "model_id": "c8259128afe34467a7a2f341b569461c",
       "version_major": 2,
       "version_minor": 0
      },
      "text/plain": [
       "HBox(children=(IntProgress(value=0, max=5000), HTML(value='')))"
      ]
     },
     "metadata": {},
     "output_type": "display_data"
    },
    {
     "name": "stdout",
     "output_type": "stream",
     "text": [
      "\n",
      "Train score : tensor(0., device='cuda:0', grad_fn=<NllLossBackward>)\n"
     ]
    },
    {
     "data": {
      "text/plain": [
       "NeuralTangentKernel()"
      ]
     },
     "execution_count": 24,
     "metadata": {},
     "output_type": "execute_result"
    }
   ],
   "source": [
    "optimizer = torch.optim.Adam(CNTK_t.parameters())\n",
    "criterion = torch.nn.CrossEntropyLoss()\n",
    "    \n",
    "train(CNTK_t, images, labels, criterion, optimizer, nb_epochs=5000, device=device)"
   ]
  },
  {
   "cell_type": "code",
   "execution_count": 25,
   "metadata": {},
   "outputs": [
    {
     "data": {
      "application/vnd.jupyter.widget-view+json": {
       "model_id": "55b0eafc978644ec9c8a7d7ea55c293d",
       "version_major": 2,
       "version_minor": 0
      },
      "text/plain": [
       "HBox(children=(IntProgress(value=0, description='Computing Jacobians', max=500, style=ProgressStyle(descriptio…"
      ]
     },
     "metadata": {},
     "output_type": "display_data"
    },
    {
     "name": "stdout",
     "output_type": "stream",
     "text": [
      "\n",
      "CPU times: user 15min 2s, sys: 4min 7s, total: 19min 9s\n",
      "Wall time: 17min 39s\n"
     ]
    }
   ],
   "source": [
    "%%time\n",
    "CNTK_t.train(False)\n",
    "pred_te_inf = CNTK_t(images_test)"
   ]
  },
  {
   "cell_type": "code",
   "execution_count": 26,
   "metadata": {},
   "outputs": [
    {
     "data": {
      "text/plain": [
       "tensor(0.8400)"
      ]
     },
     "execution_count": 26,
     "metadata": {},
     "output_type": "execute_result"
    }
   ],
   "source": [
    "nn_accuracy_score(pred_te_inf.cpu(), labels_test.cpu())"
   ]
  },
  {
   "cell_type": "code",
   "execution_count": null,
   "metadata": {},
   "outputs": [],
   "source": []
  },
  {
   "cell_type": "raw",
   "metadata": {},
   "source": [
    "# References\n",
    "\n",
    "[jacot2019neural]: http://papers.nips.cc/paper/8076-neural-tangent-kernel-convergence-and-generalization-in-neural-networks\n",
    "[yang2019scaling]: https://arxiv.org/abs/1902.04760\n",
    "[arora2019exact]: https://arxiv.org/abs/1904.11955\n",
    "[arora2019exact-resume]: http://www.offconvex.org/2019/10/03/NTK/"
   ]
  },
  {
   "cell_type": "code",
   "execution_count": null,
   "metadata": {},
   "outputs": [],
   "source": []
  }
 ],
 "metadata": {
  "kernelspec": {
   "display_name": ".env",
   "language": "python",
   "name": ".env"
  },
  "language_info": {
   "codemirror_mode": {
    "name": "ipython",
    "version": 3
   },
   "file_extension": ".py",
   "mimetype": "text/x-python",
   "name": "python",
   "nbconvert_exporter": "python",
   "pygments_lexer": "ipython3",
   "version": "3.7.5"
  }
 },
 "nbformat": 4,
 "nbformat_minor": 4
}
