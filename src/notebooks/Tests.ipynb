{
 "cells": [
  {
   "cell_type": "code",
   "execution_count": 1,
   "metadata": {},
   "outputs": [],
   "source": [
    "import sys, os\n",
    "\n",
    "module_path = os.path.abspath(os.path.join('..'))\n",
    "if module_path not in sys.path:\n",
    "    sys.path.append(module_path)\n",
    "\n",
    "import warnings"
   ]
  },
  {
   "cell_type": "code",
   "execution_count": 2,
   "metadata": {},
   "outputs": [],
   "source": [
    "import yaml\n",
    "\n",
    "with open(\"../config.yml\", 'r') as f:\n",
    "    cfg = yaml.safe_load(f)"
   ]
  },
  {
   "cell_type": "code",
   "execution_count": 3,
   "metadata": {},
   "outputs": [
    {
     "name": "stderr",
     "output_type": "stream",
     "text": [
      "/home/william/.local/lib/python3.7/site-packages/tqdm/autonotebook/__init__.py:18: TqdmExperimentalWarning: Using `tqdm.autonotebook.tqdm` in notebook mode. Use `tqdm.tqdm` instead to force console mode (e.g. in jupyter console)\n",
      "  \" (e.g. in jupyter console)\", TqdmExperimentalWarning)\n"
     ]
    }
   ],
   "source": [
    "# warnings.simplefilter('ignore')\n",
    "\n",
    "import torch\n",
    "import torchvision\n",
    "\n",
    "import torch.nn as nn\n",
    "import torch.functional as F\n",
    "\n",
    "import matplotlib.pyplot as plt\n",
    "import seaborn as sns\n",
    "import numpy as np\n",
    "from tqdm.autonotebook import tqdm\n",
    "import pickle\n",
    "\n",
    "from utility.util import one_hot\n",
    "from utility.train import train\n",
    "from utility.metrics import print_score, nn_accuracy_score\n",
    "from utility.torchKernel import NeuralTangentKernel"
   ]
  },
  {
   "cell_type": "markdown",
   "metadata": {},
   "source": [
    "# Dataset"
   ]
  },
  {
   "cell_type": "code",
   "execution_count": 4,
   "metadata": {},
   "outputs": [],
   "source": [
    "seed = cfg['other']['random_seed']\n",
    "\n",
    "torch.backends.cudnn.enabled = False\n",
    "torch.manual_seed(seed)\n",
    "torch.cuda.manual_seed_all(seed)\n",
    "\n",
    "device = 'cuda' if torch.cuda.is_available() else 'cpu'"
   ]
  },
  {
   "cell_type": "code",
   "execution_count": 5,
   "metadata": {},
   "outputs": [],
   "source": [
    "train_size = cfg['dataset']['train_size']\n",
    "test_size = cfg['dataset']['test_size']"
   ]
  },
  {
   "cell_type": "code",
   "execution_count": 6,
   "metadata": {},
   "outputs": [],
   "source": [
    "transform =torchvision.transforms.Compose([\n",
    "                  torchvision.transforms.ToTensor(),\n",
    "                  torchvision.transforms.Normalize(\n",
    "                  (0.1307,), (0.3081,))\n",
    "                  ])"
   ]
  },
  {
   "cell_type": "code",
   "execution_count": 7,
   "metadata": {},
   "outputs": [],
   "source": [
    "train_loader = torch.utils.data.DataLoader(\n",
    "  torchvision.datasets.MNIST(cfg['dataset']['path'], train=True, download=True,\n",
    "                             transform=transform),\n",
    "  batch_size=train_size, shuffle=True)\n",
    "\n",
    "test_loader = torch.utils.data.DataLoader(\n",
    "  torchvision.datasets.MNIST(cfg['dataset']['path'], train=False, download=True,\n",
    "                             transform=transform),\n",
    "  batch_size=test_size, shuffle=True)"
   ]
  },
  {
   "cell_type": "code",
   "execution_count": 8,
   "metadata": {},
   "outputs": [],
   "source": [
    "dataiter = iter(train_loader)\n",
    "images, labels = dataiter.next()"
   ]
  },
  {
   "cell_type": "code",
   "execution_count": 9,
   "metadata": {},
   "outputs": [],
   "source": [
    "testiter = iter(test_loader)\n",
    "images_test, labels_test = testiter.next()"
   ]
  },
  {
   "cell_type": "markdown",
   "metadata": {},
   "source": [
    "Note that the values $0.1307$ and $0.3081$ are the well known mean and variance for the MNIST dataset."
   ]
  },
  {
   "cell_type": "markdown",
   "metadata": {},
   "source": [
    "# Network"
   ]
  },
  {
   "cell_type": "code",
   "execution_count": 10,
   "metadata": {},
   "outputs": [],
   "source": [
    "n_hidden_nodes = 100\n",
    "\n",
    "MLP = nn.Sequential(nn.Flatten(), nn.Linear(784, n_hidden_nodes), nn.ReLU(),\n",
    "                    nn.Linear(n_hidden_nodes, n_hidden_nodes), nn.ReLU(),\n",
    "                    nn.Linear(n_hidden_nodes, n_hidden_nodes), nn.ReLU(),\n",
    "                    nn.Linear(n_hidden_nodes, 10))\n",
    "\n",
    "n_channels = 10\n",
    "CNN = nn.Sequential(nn.Conv2d(1,n_channels,5), nn.ReLU(),\n",
    "                    nn.Conv2d(n_channels,n_channels,5), nn.ReLU(),\n",
    "                    nn.Conv2d(n_channels,n_channels,5), nn.ReLU(),\n",
    "                    nn.Conv2d(n_channels, 10, 16), nn.Flatten())\n",
    "\n",
    "CNN_t = nn.Sequential(nn.Conv2d(1,n_channels,5), nn.ReLU(),\n",
    "                    nn.Conv2d(n_channels,n_channels,5), nn.ReLU(),\n",
    "                    nn.Conv2d(n_channels,n_channels,5), nn.ReLU(),\n",
    "                    nn.Conv2d(n_channels, 10, 16), nn.Flatten())"
   ]
  },
  {
   "cell_type": "code",
   "execution_count": 11,
   "metadata": {},
   "outputs": [],
   "source": [
    "def count_params(net):\n",
    "    return sum(par.numel() for par in net.parameters() if par.requires_grad)"
   ]
  },
  {
   "cell_type": "code",
   "execution_count": 12,
   "metadata": {},
   "outputs": [
    {
     "data": {
      "text/plain": [
       "30890"
      ]
     },
     "execution_count": 12,
     "metadata": {},
     "output_type": "execute_result"
    }
   ],
   "source": [
    "count_params(CNN_t)"
   ]
  },
  {
   "cell_type": "code",
   "execution_count": 14,
   "metadata": {},
   "outputs": [
    {
     "data": {
      "application/vnd.jupyter.widget-view+json": {
       "model_id": "276ea9ee6e4a461ea6a2d1bcd5853e49",
       "version_major": 2,
       "version_minor": 0
      },
      "text/plain": [
       "HBox(children=(IntProgress(value=0, max=2000), HTML(value='')))"
      ]
     },
     "metadata": {},
     "output_type": "display_data"
    },
    {
     "name": "stdout",
     "output_type": "stream",
     "text": [
      "CrossEntropyLoss() on TRAIN :\t 5.488011083798483e-06 \n",
      "CrossEntropyLoss() on TEST :\t 1.3183327913284302\n",
      "<function nn_accuracy_score at 0x7f38cc422560> on TRAIN :\t 1.0 \n",
      "<function nn_accuracy_score at 0x7f38cc422560> on TEST :\t 0.8759999871253967\n"
     ]
    }
   ],
   "source": [
    "optimizer = torch.optim.Adam(CNN_t.parameters())\n",
    "criterion = torch.nn.CrossEntropyLoss()\n",
    "    \n",
    "train(CNN_t, images, labels, criterion, optimizer, nb_epochs=2000)\n",
    "\n",
    "print_score(CNN_t, criterion, images, labels, images_test, labels_test)\n",
    "print_score(CNN_t, nn_accuracy_score, images, labels, images_test, labels_test)"
   ]
  },
  {
   "cell_type": "code",
   "execution_count": 15,
   "metadata": {},
   "outputs": [
    {
     "data": {
      "application/vnd.jupyter.widget-view+json": {
       "model_id": "d201bbe7e89b4266abb80ea4dd9f9ccf",
       "version_major": 2,
       "version_minor": 0
      },
      "text/plain": [
       "HBox(children=(IntProgress(value=0, description='Computing Jacobians', max=500, style=ProgressStyle(descriptio…"
      ]
     },
     "metadata": {},
     "output_type": "display_data"
    }
   ],
   "source": [
    "NTK = NeuralTangentKernel(images, CNN_t)"
   ]
  },
  {
   "cell_type": "code",
   "execution_count": 16,
   "metadata": {},
   "outputs": [
    {
     "data": {
      "image/png": "[encoded data removed]",
      "text/plain": [
       "<Figure size 720x600 with 2 Axes>"
      ]
     },
     "metadata": {
      "needs_background": "light"
     },
     "output_type": "display_data"
    }
   ],
   "source": [
    "fig, ax1 = plt.subplots(ncols=1, figsize=(6,5), dpi=120)\n",
    "sns.heatmap(NTK.kernel[:100,:100].cpu(), ax=ax1)\n",
    "ax1.set(title='NTK at initialization')\n",
    "plt.tight_layout()\n",
    "plt.show()\n"
   ]
  },
  {
   "cell_type": "code",
   "execution_count": 18,
   "metadata": {},
   "outputs": [
    {
     "data": {
      "application/vnd.jupyter.widget-view+json": {
       "model_id": "19c7bf871c734e58a81ac290ce2a07f3",
       "version_major": 2,
       "version_minor": 0
      },
      "text/plain": [
       "HBox(children=(IntProgress(value=0, max=8000), HTML(value='')))"
      ]
     },
     "metadata": {},
     "output_type": "display_data"
    },
    {
     "data": {
      "text/plain": [
       "NeuralTangentKernel()"
      ]
     },
     "execution_count": 18,
     "metadata": {},
     "output_type": "execute_result"
    }
   ],
   "source": [
    "# optimizer = torch.optim.SGD(NTK.parameters(), lr=0.01)\n",
    "optimizer = torch.optim.Adam(NTK.parameters())\n",
    "criterion = torch.nn.CrossEntropyLoss()\n",
    "    \n",
    "train(NTK, images, labels, criterion, optimizer, nb_epochs=8000)"
   ]
  },
  {
   "cell_type": "code",
   "execution_count": 19,
   "metadata": {},
   "outputs": [],
   "source": [
    "if True:\n",
    "    with open(cfg['models']['path']+'/CNN_trained.pkl', mode='wb') as f:\n",
    "        pickle.dump(NTK, f)"
   ]
  },
  {
   "cell_type": "code",
   "execution_count": 20,
   "metadata": {},
   "outputs": [
    {
     "name": "stdout",
     "output_type": "stream",
     "text": [
      "<function nn_accuracy_score at 0x7f38cc422560> on TRAIN :\t 0.9959999918937683 \n",
      "<function nn_accuracy_score at 0x7f38cc422560> on TEST :\t 0.878000020980835\n"
     ]
    }
   ],
   "source": [
    "NTK.train(False)\n",
    "\n",
    "# print_score(NTK, criterion, images, labels, images_test, labels_test)\n",
    "print_score(NTK, nn_accuracy_score, images, labels, images_test, labels_test)"
   ]
  },
  {
   "cell_type": "code",
   "execution_count": 25,
   "metadata": {},
   "outputs": [
    {
     "name": "stdout",
     "output_type": "stream",
     "text": [
      "CPU times: user 1min 27s, sys: 794 ms, total: 1min 28s\n",
      "Wall time: 25.7 s\n"
     ]
    }
   ],
   "source": [
    "%%time\n",
    "NTK.train(False)\n",
    "pred_te_inf = NTK(images_test)"
   ]
  },
  {
   "cell_type": "code",
   "execution_count": 26,
   "metadata": {},
   "outputs": [
    {
     "data": {
      "text/plain": [
       "tensor(0.8020)"
      ]
     },
     "execution_count": 26,
     "metadata": {},
     "output_type": "execute_result"
    }
   ],
   "source": [
    "nn_accuracy_score(pred_te_inf.cpu(), labels_test.cpu())"
   ]
  },
  {
   "cell_type": "code",
   "execution_count": null,
   "metadata": {},
   "outputs": [],
   "source": []
  },
  {
   "cell_type": "code",
   "execution_count": null,
   "metadata": {},
   "outputs": [],
   "source": []
  }
 ],
 "metadata": {
  "kernelspec": {
   "display_name": ".env",
   "language": "python",
   "name": ".env"
  },
  "language_info": {
   "codemirror_mode": {
    "name": "ipython",
    "version": 3
   },
   "file_extension": ".py",
   "mimetype": "text/x-python",
   "name": "python",
   "nbconvert_exporter": "python",
   "pygments_lexer": "ipython3",
   "version": "3.7.5"
  }
 },
 "nbformat": 4,
 "nbformat_minor": 4
}
