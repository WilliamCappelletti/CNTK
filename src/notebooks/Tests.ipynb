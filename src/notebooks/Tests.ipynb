{
 "cells": [
  {
   "cell_type": "code",
   "execution_count": 1,
   "metadata": {},
   "outputs": [],
   "source": [
    "import torch"
   ]
  },
  {
   "cell_type": "code",
   "execution_count": 19,
   "metadata": {},
   "outputs": [
    {
     "data": {
      "text/plain": [
       "tensor([[  1.,   2.,   3.,   5.,   7.,  10.],\n",
       "        [  2.,   4.,   6.,  10.,  14.,  20.],\n",
       "        [  3.,   6.,   9.,  15.,  21.,  30.],\n",
       "        [  5.,  10.,  15.,  25.,  35.,  50.],\n",
       "        [  7.,  14.,  21.,  35.,  49.,  70.],\n",
       "        [ 10.,  20.,  30.,  50.,  70., 100.]])"
      ]
     },
     "execution_count": 19,
     "metadata": {},
     "output_type": "execute_result"
    }
   ],
   "source": [
    "A = torch.as_tensor([[1., 2., 3.],\n",
    "                     [5., 7., 10.]])\n",
    "\n",
    "torch.einsum('ab, cd -> abcd', A, A).reshape(A.size(0)*A.size(1), A.size(0)*A.size(1))"
   ]
  },
  {
   "cell_type": "code",
   "execution_count": null,
   "metadata": {},
   "outputs": [],
   "source": []
  }
 ],
 "metadata": {
  "kernelspec": {
   "display_name": ".env",
   "language": "python",
   "name": ".env"
  },
  "language_info": {
   "codemirror_mode": {
    "name": "ipython",
    "version": 3
   },
   "file_extension": ".py",
   "mimetype": "text/x-python",
   "name": "python",
   "nbconvert_exporter": "python",
   "pygments_lexer": "ipython3",
   "version": "3.7.5"
  }
 },
 "nbformat": 4,
 "nbformat_minor": 4
}
